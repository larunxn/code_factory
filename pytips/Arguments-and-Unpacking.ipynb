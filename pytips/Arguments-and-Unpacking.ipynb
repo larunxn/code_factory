{
 "cells": [
  {
   "cell_type": "markdown",
   "metadata": {
    "collapsed": false
   },
   "source": [
    "### 函数调用的参数规则与解包\n",
    "\n",
    "Python 的函数在声明参数时大概有下面 4 种形式：\n",
    "\n",
    "1. 不带默认值的：`def func(a): pass`\n",
    "2. 带有默认值的：`def func(a, b = 1): pass`\n",
    "3. 任意位置参数：`def func(a, b = 1, *c): pass`\n",
    "4. 任意键值参数：`def func(a, b = 1, *c, **d): pass`\n",
    "\n",
    "在调用函数时，有两种情况：\n",
    "\n",
    "1. 没有关键词的参数：`func(\"G\", 20)`\n",
    "2. 带有关键词的参数：`func(a = \"G\", b = 20)`（其中带有关键词调用可以不考虑顺序：`func(b = 20, a = \"G\"`）\n",
    "\n",
    "当然，这两种情况是可以混用的：`func(\"G\", b = 20)`，但最重要的一条规则是**位置参数不能在关键词参数之后出现**："
   ]
  },
  {
   "cell_type": "code",
   "execution_count": 1,
   "metadata": {
    "collapsed": false
   },
   "outputs": [
    {
     "ename": "SyntaxError",
     "evalue": "positional argument follows keyword argument (<ipython-input-1-3ca775953480>, line 3)",
     "output_type": "error",
     "traceback": [
      "\u001b[0;36m  File \u001b[0;32m\"<ipython-input-1-3ca775953480>\"\u001b[0;36m, line \u001b[0;32m3\u001b[0m\n\u001b[0;31m    func(a = \"G\", 20) # SyntaxError 语法错误\u001b[0m\n\u001b[0m                 ^\u001b[0m\n\u001b[0;31mSyntaxError\u001b[0m\u001b[0;31m:\u001b[0m positional argument follows keyword argument\n"
     ]
    }
   ],
   "source": [
    "def func(a, b = 1):\n",
    "    pass\n",
    "func(a = \"G\", 20) # SyntaxError 语法错误"
   ]
  },
  {
   "cell_type": "markdown",
   "metadata": {},
   "source": [
    "另外一条规则是：**位置参数优先权**："
   ]
  },
  {
   "cell_type": "code",
   "execution_count": 2,
   "metadata": {
    "collapsed": false
   },
   "outputs": [
    {
     "ename": "TypeError",
     "evalue": "func() got multiple values for argument 'a'",
     "output_type": "error",
     "traceback": [
      "\u001b[0;31m---------------------------------------------------------------------------\u001b[0m",
      "\u001b[0;31mTypeError\u001b[0m                                 Traceback (most recent call last)",
      "\u001b[0;32m<ipython-input-2-cbaa9a1fe24d>\u001b[0m in \u001b[0;36m<module>\u001b[0;34m()\u001b[0m\n\u001b[1;32m      1\u001b[0m \u001b[0;32mdef\u001b[0m \u001b[0mfunc\u001b[0m\u001b[0;34m(\u001b[0m\u001b[0ma\u001b[0m\u001b[0;34m,\u001b[0m \u001b[0mb\u001b[0m \u001b[0;34m=\u001b[0m \u001b[0;36m1\u001b[0m\u001b[0;34m)\u001b[0m\u001b[0;34m:\u001b[0m\u001b[0;34m\u001b[0m\u001b[0m\n\u001b[1;32m      2\u001b[0m     \u001b[0;32mpass\u001b[0m\u001b[0;34m\u001b[0m\u001b[0m\n\u001b[0;32m----> 3\u001b[0;31m \u001b[0mfunc\u001b[0m\u001b[0;34m(\u001b[0m\u001b[0;36m20\u001b[0m\u001b[0;34m,\u001b[0m \u001b[0ma\u001b[0m \u001b[0;34m=\u001b[0m \u001b[0;34m\"G\"\u001b[0m\u001b[0;34m)\u001b[0m \u001b[0;31m# TypeError 对参数 a 重复赋值\u001b[0m\u001b[0;34m\u001b[0m\u001b[0m\n\u001b[0m",
      "\u001b[0;31mTypeError\u001b[0m: func() got multiple values for argument 'a'"
     ]
    }
   ],
   "source": [
    "def func(a, b = 1):\n",
    "    pass\n",
    "func(20, a = \"G\") # TypeError 对参数 a 重复赋值"
   ]
  },
  {
   "cell_type": "markdown",
   "metadata": {},
   "source": [
    "最保险的方法就是全部采用关键词参数。"
   ]
  },
  {
   "cell_type": "markdown",
   "metadata": {},
   "source": [
    "#### 任意参数\n",
    "\n",
    "任意参数可以接受任意数量的参数，其中`*a`的形式代表任意数量的位置参数，`**d`代表任意数量的关键词参数："
   ]
  },
  {
   "cell_type": "code",
   "execution_count": 3,
   "metadata": {
    "collapsed": false
   },
   "outputs": [
    {
     "name": "stdout",
     "output_type": "stream",
     "text": [
      "G20@Hz\n"
     ]
    }
   ],
   "source": [
    "def concat(*lst, sep = \"/\"):\n",
    "    return sep.join((str(i) for i in lst))\n",
    "\n",
    "print(concat(\"G\", 20, \"@\", \"Hz\", sep = \"\"))"
   ]
  },
  {
   "cell_type": "markdown",
   "metadata": {},
   "source": [
    "上面的这个`def concat(*lst, sep = \"/\")`的语法是[PEP 3102](https://www.python.org/dev/peps/pep-3102/)提出的，在 Python 3.0 之后实现。这里的关键词函数必须明确指明，不能通过位置推断："
   ]
  },
  {
   "cell_type": "code",
   "execution_count": 4,
   "metadata": {
    "collapsed": false
   },
   "outputs": [
    {
     "name": "stdout",
     "output_type": "stream",
     "text": [
      "G/20/-\n"
     ]
    }
   ],
   "source": [
    "print(concat(\"G\", 20, \"-\")) # Not G-20"
   ]
  },
  {
   "cell_type": "markdown",
   "metadata": {},
   "source": [
    "`**d`则代表任意数量的关键词参数"
   ]
  },
  {
   "cell_type": "code",
   "execution_count": 5,
   "metadata": {
    "collapsed": false
   },
   "outputs": [
    {
     "name": "stdout",
     "output_type": "stream",
     "text": [
      "hello~world\n",
      "python~rocks\n"
     ]
    }
   ],
   "source": [
    "def dconcat(sep = \":\", **dic):\n",
    "    for k in dic.keys():\n",
    "        print(\"{}{}{}\".format(k, sep, dic[k]))\n",
    "\n",
    "dconcat(hello = \"world\", python = \"rocks\", sep = \"~\")"
   ]
  },
  {
   "cell_type": "markdown",
   "metadata": {},
   "source": [
    "#### Unpacking\n",
    "\n",
    "Python 3.5 添加的新特性（[PEP 448](https://www.python.org/dev/peps/pep-0448/)），使得`*a`、`**d`可以在函数参数之外使用："
   ]
  },
  {
   "cell_type": "code",
   "execution_count": 6,
   "metadata": {
    "collapsed": false
   },
   "outputs": [
    {
     "name": "stdout",
     "output_type": "stream",
     "text": [
      "0 1 2 3 4\n",
      "0 1 2 3\n",
      "(0, 1, 2)\n",
      "rocks\n"
     ]
    }
   ],
   "source": [
    "print(*range(5))\n",
    "lst = [0, 1, 2, 3]\n",
    "print(*lst)\n",
    "\n",
    "a = *range(3), # 这里的逗号不能漏掉\n",
    "print(a)\n",
    "\n",
    "d = {\"hello\": \"world\", \"python\": \"rocks\"}\n",
    "print({**d}[\"python\"])"
   ]
  },
  {
   "cell_type": "markdown",
   "metadata": {},
   "source": [
    "所谓的解包（Unpacking）实际上可以看做是去掉`()`的元组或者是去掉`{}`的字典。这一语法也提供了一个更加 Pythonic 地合并字典的方法："
   ]
  },
  {
   "cell_type": "code",
   "execution_count": 7,
   "metadata": {
    "collapsed": false
   },
   "outputs": [
    {
     "name": "stdout",
     "output_type": "stream",
     "text": [
      "{'page_name': 'Profile Page', 'name': 'Trey', 'website': 'http://treyhunner.com'}\n"
     ]
    }
   ],
   "source": [
    "user = {'name': \"Trey\", 'website': \"http://treyhunner.com\"}\n",
    "defaults = {'name': \"Anonymous User\", 'page_name': \"Profile Page\"}\n",
    "\n",
    "print({**defaults, **user})"
   ]
  },
  {
   "cell_type": "markdown",
   "metadata": {},
   "source": [
    "在函数调用的时候使用这种解包的方法则是 Python 2.7 也可以使用的："
   ]
  },
  {
   "cell_type": "code",
   "execution_count": 8,
   "metadata": {
    "collapsed": false
   },
   "outputs": [
    {
     "name": "stdout",
     "output_type": "stream",
     "text": [
      "I/L/o/v/e/P/y/t/h/o/n\n"
     ]
    }
   ],
   "source": [
    "print(concat(*\"ILovePython\"))"
   ]
  },
  {
   "cell_type": "markdown",
   "metadata": {},
   "source": [
    "#### 参考\n",
    "\n",
    "1. [The Idiomatic Way to Merge Dictionaries in Python](https://treyhunner.com/2016/02/how-to-merge-dictionaries-in-python/)"
   ]
  }
 ],
 "metadata": {
  "kernelspec": {
   "display_name": "Python 3",
   "language": "python",
   "name": "python3"
  },
  "language_info": {
   "codemirror_mode": {
    "name": "ipython",
    "version": 3
   },
   "file_extension": ".py",
   "mimetype": "text/x-python",
   "name": "python",
   "nbconvert_exporter": "python",
   "pygments_lexer": "ipython3",
   "version": "3.5.0"
  }
 },
 "nbformat": 4,
 "nbformat_minor": 0
}
