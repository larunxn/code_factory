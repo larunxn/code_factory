{
 "cells": [
  {
   "cell_type": "markdown",
   "metadata": {},
   "source": [
    "### 0x03 - Python 列表推导\n",
    "\n",
    "**[0x02](https://github.com/rainyear/pytips/blob/master/Tips/2016-03-08-Functional-Programming-in-Python.ipynb)** 中提到的 `map`/`filter` 方法可以通过简化的语法快速构建我们需要的列表（或其它可迭代对象），与它们功能相似的，Python 还提供**列表推导（List Comprehension）**的语法。最初学 Python 的时候，我只是把这种语法当做一种**语法糖**，可以用来快速构建特定的列表，后来学习 Haskell 的时候才知道这种形式叫做 List Comprehension（中文我好像没有找到固定的翻译，有翻译成**列表速构、列表解析**之类的，但意思上都是在定义列表结构的时候按照一定的规则进行推导，而不是穷举所有元素）。\n",
    "\n",
    "这种列表推导与数学里面集合的表达形式有些相似，例如$[0, 10)$之间偶数集合可以表示为：\n",
    "\n",
    "$$\\left\\{x\\ |\\ x \\in N, x \\lt 10, x\\ mod\\ 2\\ ==\\ 0\\right\\}$$\n",
    "\n",
    "翻译成 Python 表达式为："
   ]
  },
  {
   "cell_type": "code",
   "execution_count": 1,
   "metadata": {
    "collapsed": false
   },
   "outputs": [
    {
     "name": "stdout",
     "output_type": "stream",
     "text": [
      "[0, 2, 4, 6, 8]\n"
     ]
    }
   ],
   "source": [
    "evens = [x for x in range(10) if x % 2 == 0]\n",
    "print(evens)"
   ]
  },
  {
   "cell_type": "markdown",
   "metadata": {},
   "source": [
    "这与`filter`效果一样："
   ]
  },
  {
   "cell_type": "code",
   "execution_count": 2,
   "metadata": {
    "collapsed": false
   },
   "outputs": [
    {
     "name": "stdout",
     "output_type": "stream",
     "text": [
      "True\n"
     ]
    }
   ],
   "source": [
    "fevens = filter(lambda x: x % 2 == 0, range(10))\n",
    "print(list(fevens) == evens)"
   ]
  },
  {
   "cell_type": "markdown",
   "metadata": {},
   "source": [
    "同样，列表推导也可以实现`map`的功能："
   ]
  },
  {
   "cell_type": "code",
   "execution_count": 3,
   "metadata": {
    "collapsed": false
   },
   "outputs": [
    {
     "name": "stdout",
     "output_type": "stream",
     "text": [
      "[1, 4, 9, 16, 25]\n",
      "True\n"
     ]
    }
   ],
   "source": [
    "squares = [x ** 2 for x in range(1, 6)]\n",
    "print(squares)\n",
    "\n",
    "msquares = map(lambda x: x ** 2, range(1, 6))\n",
    "print(list(msquares) == squares)"
   ]
  },
  {
   "cell_type": "markdown",
   "metadata": {},
   "source": [
    "相比之下，列表推导的语法更加直观，因此更 Pythonic 的写法是在可以用列表推导的时候尽量避免`map`/`filter`。\n",
    "\n",
    "除了上面简单的迭代、过滤推导之外，列表推导还支持嵌套结构："
   ]
  },
  {
   "cell_type": "code",
   "execution_count": 4,
   "metadata": {
    "collapsed": false
   },
   "outputs": [
    {
     "name": "stdout",
     "output_type": "stream",
     "text": [
      "[(1, 0), (1, 1), (1, 2), (2, 0), (2, 1), (2, 2)]\n",
      "True\n"
     ]
    }
   ],
   "source": [
    "cords = [(x, y) for x in range(3) for y in range(3) if x > 0]\n",
    "print(cords)\n",
    "\n",
    "# 相当于\n",
    "lcords = []\n",
    "for x in range(3):\n",
    "    for y in range(3):\n",
    "        if x > 0:\n",
    "            lcords.append((x, y))\n",
    "            \n",
    "print(lcords == cords)"
   ]
  },
  {
   "cell_type": "markdown",
   "metadata": {},
   "source": [
    "#### 字典与集合的推导\n",
    "\n",
    "这样一比较更加能够突出列表推导的优势，但是当嵌套的循环超过2层之后，列表推导语法的可读性也会大大下降，所以当循环嵌套层数增加时，还是建议用直接的语法。\n",
    "\n",
    "Python 中除了列表（List）可以进行列表推导之外，字典（Dict）、集合（Set）同样可以："
   ]
  },
  {
   "cell_type": "code",
   "execution_count": 5,
   "metadata": {
    "collapsed": false
   },
   "outputs": [
    {
     "name": "stdout",
     "output_type": "stream",
     "text": [
      "{'github.com': '23.22.145.48', 'git.io': '23.22.145.48'}\n",
      "{'octocat', 'catty'}\n"
     ]
    }
   ],
   "source": [
    "dns = {domain : ip\n",
    "       for domain in [\"github.com\", \"git.io\"]\n",
    "       for ip in [\"23.22.145.36\", \"23.22.145.48\"]}\n",
    "print(dns)\n",
    "\n",
    "names = {name for name in [\"ana\", \"bob\", \"catty\", \"octocat\"] if len(name) > 3}\n",
    "print(names)"
   ]
  },
  {
   "cell_type": "markdown",
   "metadata": {},
   "source": [
    "#### 生成器\n",
    "\n",
    "**[0x01](https://github.com/rainyear/pytips/blob/master/Tips/2016-03-07-iterator-and-generator.ipynb)**中提到的生成器（Generator），除了在函数中使用 `yield` 关键字之外还有另外一种隐藏方法，那就是对元组（Tuple）使用列表推导："
   ]
  },
  {
   "cell_type": "code",
   "execution_count": 6,
   "metadata": {
    "collapsed": false
   },
   "outputs": [
    {
     "name": "stdout",
     "output_type": "stream",
     "text": [
      "<generator object <genexpr> at 0x1104fbba0>\n",
      "0\n",
      "4\n",
      "6\n",
      "8\n"
     ]
    }
   ],
   "source": [
    "squares = (x for x in range(10) if x % 2 == 0)\n",
    "print(squares)\n",
    "\n",
    "print(next(squares))\n",
    "next(squares)\n",
    "\n",
    "for i in squares:\n",
    "    print(i)"
   ]
  }
 ],
 "metadata": {
  "kernelspec": {
   "display_name": "Python 3",
   "language": "python",
   "name": "python3"
  },
  "language_info": {
   "codemirror_mode": {
    "name": "ipython",
    "version": 3
   },
   "file_extension": ".py",
   "mimetype": "text/x-python",
   "name": "python",
   "nbconvert_exporter": "python",
   "pygments_lexer": "ipython3",
   "version": "3.5.0"
  }
 },
 "nbformat": 4,
 "nbformat_minor": 0
}
