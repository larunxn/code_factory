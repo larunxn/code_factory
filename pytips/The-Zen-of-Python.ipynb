{
 "cells": [
  {
   "cell_type": "markdown",
   "metadata": {},
   "source": [
    "### Python 之禅与 Pythonic\n",
    "\n",
    "Python 之禅是 Python 语言的设计哲学与所倡导的编程理念，Pythonic 则是指基于 Python 理念编写更加符合 Python 语法习惯（idiomatic Python）的代码，这也是本项目所追求的目标，因此以本篇作为开头。"
   ]
  },
  {
   "cell_type": "code",
   "execution_count": 1,
   "metadata": {
    "collapsed": false
   },
   "outputs": [
    {
     "name": "stdout",
     "output_type": "stream",
     "text": [
      "The Zen of Python, by Tim Peters\n",
      "\n",
      "Beautiful is better than ugly.\n",
      "Explicit is better than implicit.\n",
      "Simple is better than complex.\n",
      "Complex is better than complicated.\n",
      "Flat is better than nested.\n",
      "Sparse is better than dense.\n",
      "Readability counts.\n",
      "Special cases aren't special enough to break the rules.\n",
      "Although practicality beats purity.\n",
      "Errors should never pass silently.\n",
      "Unless explicitly silenced.\n",
      "In the face of ambiguity, refuse the temptation to guess.\n",
      "There should be one-- and preferably only one --obvious way to do it.\n",
      "Although that way may not be obvious at first unless you're Dutch.\n",
      "Now is better than never.\n",
      "Although never is often better than *right* now.\n",
      "If the implementation is hard to explain, it's a bad idea.\n",
      "If the implementation is easy to explain, it may be a good idea.\n",
      "Namespaces are one honking great idea -- let's do more of those!\n"
     ]
    }
   ],
   "source": [
    "import this"
   ]
  },
  {
   "cell_type": "markdown",
   "metadata": {},
   "source": [
    "Python 之禅，by Tim Peters\n",
    "\n",
    "优美胜于丑陋\n",
    "\n",
    "明确胜于隐晦\n",
    "\n",
    "简单胜于复杂\n",
    "\n",
    "复杂胜于凌乱\n",
    "\n",
    "扁平胜于嵌套\n",
    "\n",
    "稀疏胜于紧凑\n",
    "\n",
    "可读性至关重要\n",
    "\n",
    "即便特例，也需服从以上规则\n",
    "\n",
    "\n",
    "除非刻意追求，错误不应跳过\n",
    "\n",
    "面对歧义条件，拒绝尝试猜测\n",
    "\n",
    "\n",
    "解决问题的最优方法应该有且只有一个\n",
    "\n",
    "尽管这一方法并非显而易见（除非你是Python之父）\n",
    "\n",
    "\n",
    "动手胜于空想\n",
    "\n",
    "空想胜于不想\n",
    "\n",
    "\n",
    "难以解释的实现方案，不是好方案\n",
    "\n",
    "易于解释的实现方案，才是好方案\n",
    "\n",
    "\n",
    "命名空间是个绝妙的理念，多多益善！"
   ]
  },
  {
   "cell_type": "markdown",
   "metadata": {},
   "source": [
    "#### 参考\n",
    "\n",
    "1. [《Python之禅》的翻译和解释](http://blog.csdn.net/gzlaiyonghao/article/details/2151918)\n",
    "2. [What is Pythonic?](http://blog.startifact.com/posts/older/what-is-pythonic.html)"
   ]
  }
 ],
 "metadata": {
  "kernelspec": {
   "display_name": "Python 3",
   "language": "python",
   "name": "python3"
  },
  "language_info": {
   "codemirror_mode": {
    "name": "ipython",
    "version": 3
   },
   "file_extension": ".py",
   "mimetype": "text/x-python",
   "name": "python",
   "nbconvert_exporter": "python",
   "pygments_lexer": "ipython3",
   "version": "3.5.0"
  }
 },
 "nbformat": 4,
 "nbformat_minor": 0
}
