{
 "cells": [
  {
   "cell_type": "markdown",
   "metadata": {},
   "source": [
    "### 闭包（Closure）\n",
    "\n",
    "> 在计算机科学中，闭包（英语：Closure），又称词法闭包（Lexical Closure）或函数闭包（function closures），是引用了自由变量的函数。这个被引用的自由变量将和这个函数一同存在，即使已经离开了创造它的环境也不例外。\n",
    "[[维基百科::闭包（计算机科学）](https://zh.wikipedia.org/wiki/闭包_%28计算机科学%29)]\n",
    "\n",
    "[0x02 Python 中的函数式编程](https://github.com/rainyear/pytips/blob/master/Markdowns/2016-03-08-Functional-Programming-in-Python.md) 本来也应该包括闭包的概念，但是我觉得闭包更重要的是对**作用域（Scope）**的理解，因此把它单独列出来，同时可以理顺一下 Python 的作用域规则。\n",
    "\n",
    "闭包的概念最早出现在函数式编程语言中，后来被一些命令式编程语言所借鉴。尤其是在一些函数作为一等公民的语言中，例如JavaScript就经常用到（在JavaScript中函数几乎可以当做“特等公民”看待），我之前也写过一篇关于JavaScript闭包的文章（[图解Javascript上下文与作用域](http://blog.rainy.im/2015/07/04/scope-chain-and-prototype-chain-in-js/)），实际上闭包并不是太复杂的概念，但是可以借助闭包更好地理解不同语言的作用域规则。\n",
    "\n",
    "#### 命名空间与作用域\n",
    "\n",
    "[0x00 The Zen of Python](https://github.com/rainyear/pytips/blob/master/Markdowns/2016-03-06-The-Zen-of-Python.md)的最后一句重点强调命名空间的概念，我们可以把命名空间看做一个大型的字典类型（Dict），里面包含了所有变量的名字和值的映射关系。在 Python 中，作用域实际上可以看做是“**在当前上下文的位置，获取命名空间变量的规则**”。在 Python 代码执行的任意位置，都至少存在三层嵌套的作用域：\n",
    "\n",
    "1. 最内层作用域，最早搜索，包含所有局部变量**（Python 默认所有变量声明均为局部变量）**\n",
    "2. 所有包含当前上下文的外层函数的作用域，由内而外依次搜索，这里包含的是**非局部**也**非全局**的变量\n",
    "3. 一直向上搜索，直到当前模块的全局变量\n",
    "4. 最外层，最后搜索的，内置（built-in）变量\n",
    "\n",
    "在任意执行位置，可以将作用域看成是对下面这样一个命名空间的搜索："
   ]
  },
  {
   "cell_type": "code",
   "execution_count": 1,
   "metadata": {
    "collapsed": false
   },
   "outputs": [],
   "source": [
    "scopes = {\n",
    "    \"local\": {\"locals\": None,\n",
    "             \"non-local\": {\"locals\": None,\n",
    "                          \"global\": {\"locals\": None,\n",
    "                                    \"built-in\": [\"built-ins\"]}}},\n",
    "}"
   ]
  },
  {
   "cell_type": "markdown",
   "metadata": {},
   "source": [
    "除了默认的局部变量声明方式，Python 还有`global`和`nonlocal`两种类型的声明（**`nonlocal`是Python 3.x之后才有，2.7没有**），其中 `global` 指定的变量直接**指向**(3)当前模块的全局变量，而`nonlocal`则指向(2)最内层之外，`global`以内的变量。这里需要强调指向（references and assignments）的原因是，普通的局部变量对最内层局部作用域之外只有**只读(read-only)**的访问权限，比如下面的例子："
   ]
  },
  {
   "cell_type": "code",
   "execution_count": 2,
   "metadata": {
    "collapsed": false
   },
   "outputs": [
    {
     "ename": "UnboundLocalError",
     "evalue": "local variable 'x' referenced before assignment",
     "output_type": "error",
     "traceback": [
      "\u001b[0;31m---------------------------------------------------------------------------\u001b[0m",
      "\u001b[0;31mUnboundLocalError\u001b[0m                         Traceback (most recent call last)",
      "\u001b[0;32m<ipython-input-2-9ed43e483a17>\u001b[0m in \u001b[0;36m<module>\u001b[0;34m()\u001b[0m\n\u001b[1;32m      3\u001b[0m     \u001b[0mx\u001b[0m \u001b[0;34m+=\u001b[0m \u001b[0;36m1\u001b[0m\u001b[0;34m\u001b[0m\u001b[0m\n\u001b[1;32m      4\u001b[0m     \u001b[0mprint\u001b[0m\u001b[0;34m(\u001b[0m\u001b[0mx\u001b[0m\u001b[0;34m)\u001b[0m\u001b[0;34m\u001b[0m\u001b[0m\n\u001b[0;32m----> 5\u001b[0;31m \u001b[0mmain\u001b[0m\u001b[0;34m(\u001b[0m\u001b[0;34m)\u001b[0m\u001b[0;34m\u001b[0m\u001b[0m\n\u001b[0m",
      "\u001b[0;32m<ipython-input-2-9ed43e483a17>\u001b[0m in \u001b[0;36mmain\u001b[0;34m()\u001b[0m\n\u001b[1;32m      1\u001b[0m \u001b[0mx\u001b[0m \u001b[0;34m=\u001b[0m \u001b[0;36m100\u001b[0m\u001b[0;34m\u001b[0m\u001b[0m\n\u001b[1;32m      2\u001b[0m \u001b[0;32mdef\u001b[0m \u001b[0mmain\u001b[0m\u001b[0;34m(\u001b[0m\u001b[0;34m)\u001b[0m\u001b[0;34m:\u001b[0m\u001b[0;34m\u001b[0m\u001b[0m\n\u001b[0;32m----> 3\u001b[0;31m     \u001b[0mx\u001b[0m \u001b[0;34m+=\u001b[0m \u001b[0;36m1\u001b[0m\u001b[0;34m\u001b[0m\u001b[0m\n\u001b[0m\u001b[1;32m      4\u001b[0m     \u001b[0mprint\u001b[0m\u001b[0;34m(\u001b[0m\u001b[0mx\u001b[0m\u001b[0;34m)\u001b[0m\u001b[0;34m\u001b[0m\u001b[0m\n\u001b[1;32m      5\u001b[0m \u001b[0mmain\u001b[0m\u001b[0;34m(\u001b[0m\u001b[0;34m)\u001b[0m\u001b[0;34m\u001b[0m\u001b[0m\n",
      "\u001b[0;31mUnboundLocalError\u001b[0m: local variable 'x' referenced before assignment"
     ]
    }
   ],
   "source": [
    "x = 100\n",
    "def main():\n",
    "    x += 1\n",
    "    print(x)\n",
    "main()"
   ]
  },
  {
   "cell_type": "markdown",
   "metadata": {},
   "source": [
    "这里抛出`UnboundLocalError`，是因为`main()`函数内部的作用域对于全局变量`x`仅有只读权限，想要在`main()`中对`x`进行改变，不会影响全局变量，而是会创建一个新的局部变量，显然无法对还未创建的局部变量直接使用`x += 1`。如果想要获得全局变量的完全引用，则需要`global`声明："
   ]
  },
  {
   "cell_type": "code",
   "execution_count": 3,
   "metadata": {
    "collapsed": false
   },
   "outputs": [
    {
     "name": "stdout",
     "output_type": "stream",
     "text": [
      "101\n",
      "101\n"
     ]
    }
   ],
   "source": [
    "x = 100\n",
    "def main():\n",
    "    global x\n",
    "    x += 1\n",
    "    print(x)\n",
    "    \n",
    "main()\n",
    "print(x) # 全局变量已被改变"
   ]
  },
  {
   "cell_type": "markdown",
   "metadata": {},
   "source": [
    "#### Python 闭包\n",
    "\n",
    "到这里基本上已经了解了 Python 作用域的规则，那么我们来仿照 JavaScript 写一个计数器的闭包："
   ]
  },
  {
   "cell_type": "code",
   "execution_count": 4,
   "metadata": {
    "collapsed": false
   },
   "outputs": [
    {
     "name": "stdout",
     "output_type": "stream",
     "text": [
      "1\n",
      "2\n",
      "3\n",
      "1\n"
     ]
    }
   ],
   "source": [
    "\"\"\"\n",
    "/* JavaScript Closure example */\n",
    "var inc = function(){  \n",
    "  var x = 0;\n",
    "  return function(){\n",
    "    console.log(x++);\n",
    "  };\n",
    "};\n",
    "var inc1 = inc()\n",
    "var inc2 = inc()\n",
    "\"\"\"\n",
    "\n",
    "# Python 3.5\n",
    "def inc():\n",
    "    x = 0\n",
    "    def inner():\n",
    "        nonlocal x\n",
    "        x += 1\n",
    "        print(x)\n",
    "    return inner\n",
    "inc1 = inc()\n",
    "inc2 = inc()\n",
    "\n",
    "inc1()\n",
    "inc1()\n",
    "inc1()\n",
    "inc2()"
   ]
  },
  {
   "cell_type": "markdown",
   "metadata": {},
   "source": [
    "对于还没有`nonlocal`关键字的 Python 2.7，可以通过一点小技巧来规避局部作用域只读的限制："
   ]
  },
  {
   "cell_type": "code",
   "execution_count": 5,
   "metadata": {
    "collapsed": false
   },
   "outputs": [
    {
     "name": "stdout",
     "output_type": "stream",
     "text": [
      "1\n",
      "2\n",
      "3\n",
      "1\n"
     ]
    }
   ],
   "source": [
    "# Python 2.7\n",
    "def inc():\n",
    "    x = [0]\n",
    "    def inner():\n",
    "        x[0] += 1\n",
    "        print(x[0])\n",
    "    return inner\n",
    "inc1 = inc()\n",
    "inc2 = inc()\n",
    "\n",
    "inc1()\n",
    "inc1()\n",
    "inc1()\n",
    "inc2()"
   ]
  },
  {
   "cell_type": "markdown",
   "metadata": {},
   "source": [
    "上面的例子中，`inc1()`是在全局环境下执行的，虽然全局环境是不能向下获取到`inc()`中的局部变量`x`的，但是我们返回了一个`inc()`内部的函数`inner()`，而`inner()`对`inc()`中的局部变量是有访问权限的。也就是说`inner()`将`inc()`内的局部作用域打包送给了`inc1`和`inc2`，从而使它们各自独立拥有了一块封闭起来的作用域，不受全局变量或者任何其它运行环境的影响，因此称为闭包。\n",
    "\n",
    "闭包函数都有一个`__closure__`属性，其中包含了它所引用的上层作用域中的变量："
   ]
  },
  {
   "cell_type": "code",
   "execution_count": 6,
   "metadata": {
    "collapsed": false
   },
   "outputs": [
    {
     "name": "stdout",
     "output_type": "stream",
     "text": [
      "[3]\n",
      "[1]\n"
     ]
    }
   ],
   "source": [
    "print(inc1.__closure__[0].cell_contents)\n",
    "print(inc2.__closure__[0].cell_contents)"
   ]
  },
  {
   "cell_type": "markdown",
   "metadata": {},
   "source": [
    "#### 参考\n",
    "\n",
    "1. [9.2. Python Scopes and Namespaces](https://docs.python.org/3/tutorial/classes.html#python-scopes-and-namespaces)\n",
    "2. [Visualize Python Execution](http://www.pythontutor.com/visualize.html#mode=edit)\n",
    "3. [Wikipedia::Closure](https://en.wikipedia.org/wiki/Closure_%28computer_programming%29)"
   ]
  }
 ],
 "metadata": {
  "kernelspec": {
   "display_name": "Python 3",
   "language": "python",
   "name": "python3"
  },
  "language_info": {
   "codemirror_mode": {
    "name": "ipython",
    "version": 3
   },
   "file_extension": ".py",
   "mimetype": "text/x-python",
   "name": "python",
   "nbconvert_exporter": "python",
   "pygments_lexer": "ipython3",
   "version": "3.5.0"
  }
 },
 "nbformat": 4,
 "nbformat_minor": 0
}
